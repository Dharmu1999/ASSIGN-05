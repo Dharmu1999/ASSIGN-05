{
 "cells": [
  {
   "cell_type": "markdown",
   "id": "ced9cb63-b3a2-4bfe-84e2-e598f062af61",
   "metadata": {},
   "source": [
    "## Q1. Create a python program to sort the given list of tuples based on integer value using a lambda function ?\n",
    "[('Sachin Tendulkar', 34357), ('Ricky Ponting', 27483), ('Jack Kallis', 25534), ('Virat Kohli', 24936)]"
   ]
  },
  {
   "cell_type": "code",
   "execution_count": 1,
   "id": "ef114b2b-3588-416e-ad0e-231560045781",
   "metadata": {},
   "outputs": [
    {
     "name": "stdout",
     "output_type": "stream",
     "text": [
      "[('Virat Kohli', 24936), ('Jack Kallis', 25534), ('Ricky Ponting', 27483), ('Sachin Tendulkar', 34357)]\n"
     ]
    }
   ],
   "source": [
    "# ANS\n",
    "lst = [('Sachin Tendulkar', 34357), ('Ricky Ponting', 27483), ('Jack Kallis', 25534), ('Virat Kohli', 24936)]\n",
    "\n",
    "sorted_lst = sorted(lst, key=lambda x: x[1])\n",
    "\n",
    "print(sorted_lst)\n"
   ]
  },
  {
   "cell_type": "markdown",
   "id": "b2a45c7a-091c-43a1-8018-e911c5ebb7a4",
   "metadata": {},
   "source": [
    "## Q2. Write a Python Program to find the squares of all the numbers in the given list of integers using lambda and map functions ?\n",
    "[1, 2, 3, 4, 5, 6, 7, 8, 9, 10]"
   ]
  },
  {
   "cell_type": "code",
   "execution_count": 2,
   "id": "b798e038-657d-4c23-9a3f-5ecdd9520fab",
   "metadata": {},
   "outputs": [
    {
     "name": "stdout",
     "output_type": "stream",
     "text": [
      "[1, 4, 9, 16, 25, 36, 49, 64, 81, 100]\n"
     ]
    }
   ],
   "source": [
    "# ANS\n",
    "lst = [1, 2, 3, 4, 5, 6, 7, 8, 9, 10]\n",
    "\n",
    "squared_lst = list(map(lambda x: x**2, lst))\n",
    "\n",
    "print(squared_lst)\n"
   ]
  },
  {
   "cell_type": "markdown",
   "id": "be87d1ee-532b-4f83-af9e-f00f5355d5f1",
   "metadata": {},
   "source": [
    "## Q3. Write a python program to convert the given list of integers into a tuple of strings. Use map and lambda functions ?\n",
    "Given String: [1, 2, 3, 4, 5, 6, 7, 8, 9, 10]\n",
    "Expected output: ('1', '2', '3', '4', '5', '6', '7', '8', '9', '10')"
   ]
  },
  {
   "cell_type": "code",
   "execution_count": 3,
   "id": "09ea6ea3-6c6c-4375-8f63-9f1cc7020806",
   "metadata": {},
   "outputs": [
    {
     "name": "stdout",
     "output_type": "stream",
     "text": [
      "('1', '2', '3', '4', '5', '6', '7', '8', '9', '10')\n"
     ]
    }
   ],
   "source": [
    "# ANS\n",
    "lst = [1, 2, 3, 4, 5, 6, 7, 8, 9, 10]\n",
    "\n",
    "str_tuple = tuple(map(lambda x: str(x), lst))\n",
    "\n",
    "print(str_tuple)\n"
   ]
  },
  {
   "cell_type": "markdown",
   "id": "5367f333-0431-4aa6-8381-d76641d0d6d1",
   "metadata": {},
   "source": [
    "## Q4.  Write a python program using reduce function to compute the product of a list containing numbers from 1 to 25?"
   ]
  },
  {
   "cell_type": "code",
   "execution_count": 4,
   "id": "3377bc73-1ca2-4009-9539-4e3d4f25e0ac",
   "metadata": {},
   "outputs": [
    {
     "name": "stdout",
     "output_type": "stream",
     "text": [
      "15511210043330985984000000\n"
     ]
    }
   ],
   "source": [
    "# ANS\n",
    "from functools import reduce\n",
    "\n",
    "lst = list(range(1, 26))\n",
    "\n",
    "product = reduce(lambda x, y: x*y, lst)\n",
    "\n",
    "print(product)\n"
   ]
  },
  {
   "cell_type": "markdown",
   "id": "5b18a480-4a41-497c-8b0f-b75e59d85437",
   "metadata": {},
   "source": [
    "## Q5. Write a python program to filter the numbers in a given list that are divisible by 2 and 3 using the filter function?\n",
    "[2, 3, 6, 9, 27, 60, 90, 120, 55, 46]"
   ]
  },
  {
   "cell_type": "code",
   "execution_count": 5,
   "id": "af2a3141-85ab-4ca0-a04c-e6806f335ac5",
   "metadata": {},
   "outputs": [
    {
     "name": "stdout",
     "output_type": "stream",
     "text": [
      "[6, 60, 90, 120]\n"
     ]
    }
   ],
   "source": [
    "# ANS\n",
    "lst = [2, 3, 6, 9, 27, 60, 90, 120, 55, 46]\n",
    "\n",
    "filtered_lst = list(filter(lambda x: (x % 2 == 0) and (x % 3 == 0), lst))\n",
    "\n",
    "print(filtered_lst)\n"
   ]
  },
  {
   "cell_type": "markdown",
   "id": "867667bb-531f-495c-ad8d-16b8dba3e914",
   "metadata": {},
   "source": [
    "## Q6. Write a python program to find palindromes in the given list of strings using lambda and filter function?\n",
    "['python', 'php', 'aba', 'radar', 'level']"
   ]
  },
  {
   "cell_type": "code",
   "execution_count": 6,
   "id": "278a3e3c-654c-412d-a9c7-fc81191c4d7f",
   "metadata": {},
   "outputs": [
    {
     "name": "stdout",
     "output_type": "stream",
     "text": [
      "['php', 'aba', 'radar', 'level']\n"
     ]
    }
   ],
   "source": [
    "# ANS\n",
    "lst = ['python', 'php', 'aba', 'radar', 'level']\n",
    "\n",
    "palindromes = list(filter(lambda x: x == x[::-1], lst))\n",
    "\n",
    "print(palindromes)\n"
   ]
  },
  {
   "cell_type": "markdown",
   "id": "5441ebf7-33e1-4eab-b1b1-dea62916c213",
   "metadata": {},
   "source": [
    "## THANKS"
   ]
  },
  {
   "cell_type": "code",
   "execution_count": null,
   "id": "7b55e25f-7ee7-4908-84e6-3ef59cdc073d",
   "metadata": {},
   "outputs": [],
   "source": []
  }
 ],
 "metadata": {
  "kernelspec": {
   "display_name": "Python 3 (ipykernel)",
   "language": "python",
   "name": "python3"
  },
  "language_info": {
   "codemirror_mode": {
    "name": "ipython",
    "version": 3
   },
   "file_extension": ".py",
   "mimetype": "text/x-python",
   "name": "python",
   "nbconvert_exporter": "python",
   "pygments_lexer": "ipython3",
   "version": "3.10.8"
  }
 },
 "nbformat": 4,
 "nbformat_minor": 5
}
